{
 "cells": [
  {
   "cell_type": "code",
   "execution_count": null,
   "metadata": {},
   "outputs": [],
   "source": [
    "import pandas as pd\n",
    "import numpy as np"
   ]
  },
  {
   "cell_type": "code",
   "execution_count": null,
   "metadata": {},
   "outputs": [],
   "source": [
    "df = pd.read_csv('C:\\\\Users\\\\dell\\\\Downloads\\\\academic_performance.csv')\n",
    "df"
   ]
  },
  {
   "cell_type": "code",
   "execution_count": null,
   "metadata": {},
   "outputs": [],
   "source": [
    "df.isna().sum()"
   ]
  },
  {
   "cell_type": "code",
   "execution_count": null,
   "metadata": {},
   "outputs": [],
   "source": [
    "df = df.fillna(df.median())\n",
    "df"
   ]
  },
  {
   "cell_type": "code",
   "execution_count": null,
   "metadata": {},
   "outputs": [],
   "source": [
    "df.replace(np.nan, 'Missing')"
   ]
  },
  {
   "cell_type": "code",
   "execution_count": null,
   "metadata": {},
   "outputs": [],
   "source": [
    "#drop\n",
    "#df.dropna() - row\n",
    "#df.dropna(axis=1) - column\n",
    "#df.dropna(subset=['Sem8']) - only Sem8 column's row are dropped"
   ]
  },
  {
   "cell_type": "code",
   "execution_count": null,
   "metadata": {},
   "outputs": [],
   "source": [
    "df.boxplot()"
   ]
  },
  {
   "cell_type": "code",
   "execution_count": null,
   "metadata": {},
   "outputs": [],
   "source": [
    "import matplotlib.pyplot as plt\n",
    "plt.scatter(x=df['Sem7'],y=df['Average'], c='r', marker='*')\n",
    "plt.xlabel(\"Sem7\")\n",
    "plt.ylabel(\"Average\")\n",
    "plt.title(\"Sem7 Vs Average\")\n",
    "plt.legend(['Pointer'])\n",
    "plt.show()"
   ]
  },
  {
   "cell_type": "code",
   "execution_count": null,
   "metadata": {},
   "outputs": [],
   "source": [
    "#Outlier\n",
    "import scipy.stats as st"
   ]
  },
  {
   "cell_type": "code",
   "execution_count": null,
   "metadata": {},
   "outputs": [],
   "source": [
    "s7 = df['Sem7'].values.flatten()\n",
    "s7"
   ]
  },
  {
   "cell_type": "code",
   "execution_count": null,
   "metadata": {},
   "outputs": [],
   "source": [
    "zscores = st.zscore(df['Sem7'])\n",
    "zscores"
   ]
  },
  {
   "cell_type": "code",
   "execution_count": null,
   "metadata": {},
   "outputs": [],
   "source": [
    "mean = np.mean(s7)\n",
    "std = np.std(s7)\n",
    "print(mean,std)"
   ]
  },
  {
   "cell_type": "code",
   "execution_count": null,
   "metadata": {},
   "outputs": [],
   "source": [
    "threshold=3\n",
    "outlier=[]\n",
    "j=0\n",
    "for i in s7:\n",
    "    z = (i-mean)/std\n",
    "    if(z>threshold):\n",
    "        outlier.append(i)\n",
    "        print(j)\n",
    "    j=j+1\n",
    "outlier"
   ]
  },
  {
   "cell_type": "code",
   "execution_count": null,
   "metadata": {},
   "outputs": [],
   "source": [
    "#dropping outlier\n",
    "df.drop(index=12)\n",
    "df.drop(26)"
   ]
  },
  {
   "cell_type": "code",
   "execution_count": null,
   "metadata": {},
   "outputs": [],
   "source": [
    "#Flooring and Capping\n",
    "n1 = np.percentile(df['Sem7'],10)\n",
    "print(n1)\n",
    "n2 = np.percentile(df['Sem7'],90)   \n",
    "print(n2)"
   ]
  },
  {
   "cell_type": "code",
   "execution_count": null,
   "metadata": {},
   "outputs": [],
   "source": [
    "df['Sem7'].loc[12]=n2\n",
    "df['Sem7'].loc[26]=n2\n",
    "df"
   ]
  },
  {
   "cell_type": "code",
   "execution_count": null,
   "metadata": {},
   "outputs": [],
   "source": [
    "col = df.columns\n",
    "col.values.flatten()\n",
    "\n",
    "for k in col:\n",
    "    if k != 'Name':\n",
    "        s = df[k].values.flatten()\n",
    "        mean = np.mean(s)\n",
    "        std = np.std(s)\n",
    "        print('mean is',mean)\n",
    "        print('std. deviation is',std)\n",
    "        threshold =3\n",
    "        outlier =[]\n",
    "        j=0\n",
    "        for i in s:\n",
    "            z = (i-mean)/std\n",
    "            if(z>threshold):\n",
    "                outlier.append(i)\n",
    "                print(j)\n",
    "            j+=1\n",
    "        print('outlier in dataset is',outlier)\n",
    "        print()"
   ]
  }
 ],
 "metadata": {
  "kernelspec": {
   "display_name": "Python 3",
   "language": "python",
   "name": "python3"
  },
  "language_info": {
   "codemirror_mode": {
    "name": "ipython",
    "version": 3
   },
   "file_extension": ".py",
   "mimetype": "text/x-python",
   "name": "python",
   "nbconvert_exporter": "python",
   "pygments_lexer": "ipython3",
   "version": "3.7.6"
  }
 },
 "nbformat": 4,
 "nbformat_minor": 4
}
